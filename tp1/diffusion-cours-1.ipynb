{
 "cells": [
  {
   "cell_type": "markdown",
   "metadata": {},
   "source": [
    "# TP1 : modèles de diffusion en 2D\n",
    "\n",
    "### Définition des données"
   ]
  },
  {
   "cell_type": "code",
   "execution_count": null,
   "metadata": {},
   "outputs": [],
   "source": [
    "import torch\n",
    "import torch.nn as nn\n",
    "import torch.optim as optim\n",
    "import numpy as np\n",
    "import matplotlib.pyplot as plt\n",
    "from torch.utils.data import DataLoader, TensorDataset, random_split\n",
    "\n",
    "# Générer des données 2D\n",
    "def generate_2d_data(n_samples=1000, noise_level=0.1):\n",
    "    angles = np.linspace(0, 2 * np.pi, n_samples)\n",
    "    x = np.stack([np.cos(angles), np.sin(angles)], axis=1)  # Points du cercle\n",
    "    x += np.random.normal(0, noise_level, x.shape)  # Ajouter du bruit\n",
    "    return torch.tensor(x, dtype=torch.float32)\n",
    "\n",
    "# Préparer le dataset\n",
    "data = generate_2d_data(10000)\n",
    "dataset = TensorDataset(data)\n",
    "\n",
    "# Diviser les données en ensembles d'entraînement, de validation et de test\n",
    "train_size = int(0.8 * len(dataset))\n",
    "val_size = int(0.1 * len(dataset))\n",
    "test_size = len(dataset) - train_size - val_size\n",
    "train_dataset, val_dataset, test_dataset = random_split(dataset, [train_size, val_size, test_size])\n",
    "\n",
    "train_loader = DataLoader(train_dataset, batch_size=64, shuffle=True)\n",
    "val_loader = DataLoader(val_dataset, batch_size=64, shuffle=False)\n",
    "test_loader = DataLoader(test_dataset, batch_size=64, shuffle=False)"
   ]
  },
  {
   "cell_type": "markdown",
   "metadata": {},
   "source": [
    "### Définition du modèle de diffusion"
   ]
  },
  {
   "cell_type": "code",
   "execution_count": null,
   "metadata": {},
   "outputs": [],
   "source": [
    "# Modèle de Diffusion\n",
    "class DiffusionModel(nn.Module):\n",
    "    def __init__(self, input_dim, hidden_dim):\n",
    "        super().__init__()\n",
    "        pass\n",
    "\n",
    "    def forward(self, x, t):\n",
    "        pass\n",
    "\n",
    "# Fonction de perte\n",
    "def diffusion_loss(noise_pred, noise):\n",
    "    pass"
   ]
  },
  {
   "cell_type": "markdown",
   "metadata": {},
   "source": [
    "### Entrainement du modèle de diffusion"
   ]
  },
  {
   "cell_type": "code",
   "execution_count": null,
   "metadata": {},
   "outputs": [],
   "source": [
    "# Initialiser le modèle et l'optimiseur\n",
    "input_dim = 2  # Données en 2D\n",
    "hidden_dim = 128\n",
    "epochs = 2000\n",
    "T = 100  # Nombre de pas de temps\n",
    "\n",
    "diffusion_model = DiffusionModel(input_dim=input_dim, hidden_dim=hidden_dim)\n",
    "optimizer = optim.Adam(diffusion_model.parameters(), lr=1e-4)\n",
    "\n",
    "# Ajouter un learning rate scheduler\n",
    "scheduler = optim.lr_scheduler.StepLR(optimizer, step_size=50, gamma=0.1)\n",
    "\n",
    "# Fonction pour sauvegarder le modèle\n",
    "def save_model(model, path):\n",
    "    torch.save(model.state_dict(), path)\n",
    "\n",
    "# Fonction pour charger le modèle\n",
    "def load_model(model, path):\n",
    "    model.load_state_dict(torch.load(path))\n",
    "\n",
    "# Chemin pour sauvegarder le meilleur modèle\n",
    "best_model_path = 'best_diffusion_model.pth'\n",
    "best_val_loss = float('inf')\n",
    "\n",
    "# Entraînement du modèle\n",
    "for epoch in range(epochs):\n",
    "    diffusion_model.train()\n",
    "    train_loss = 0\n",
    "    for batch in train_loader:\n",
    "        # FIXME \n",
    "        continue\n",
    "\n",
    "    train_loss /= len(train_loader)\n",
    "\n",
    "    # Validation\n",
    "    diffusion_model.eval()\n",
    "    val_loss = 0\n",
    "    with torch.no_grad():\n",
    "        for batch in val_loader:\n",
    "            ## FIXME\n",
    "            continue\n",
    "\n",
    "    val_loss /= len(val_loader)\n",
    "\n",
    "    # Mettre à jour le learning rate scheduler\n",
    "    scheduler.step()\n",
    "\n",
    "    # Sauvegarder le meilleur modèle\n",
    "    if val_loss < best_val_loss:\n",
    "        best_val_loss = val_loss\n",
    "        save_model(diffusion_model, best_model_path)\n",
    "\n",
    "    if epoch % 10 == 0:\n",
    "        print(f\"Epoch {epoch}, Train Loss: {train_loss:.4f}, Val Loss: {val_loss:.4f}\")"
   ]
  },
  {
   "cell_type": "markdown",
   "metadata": {},
   "source": [
    "### Evaluation du modèle, génération de données"
   ]
  },
  {
   "cell_type": "code",
   "execution_count": null,
   "metadata": {},
   "outputs": [],
   "source": [
    "# Fonction pour débruiter les données en plusieurs étapes\n",
    "def denoise_data_multi_step(model, x_noisy, T, steps):\n",
    "    with torch.no_grad():\n",
    "        x_denoised = x_noisy\n",
    "        for step in range(steps):\n",
    "            # FIXME\n",
    "            continue\n",
    "        return x_denoised\n",
    "\n",
    "# Générer des données bruitées et débruitées par le modèle en plusieurs étapes\n",
    "with torch.no_grad():\n",
    "    t = torch.tensor([1.0] * data.size(0), dtype=torch.float32)  # Temps initial pour visualisation\n",
    "    noise = torch.randn_like(data)\n",
    "    x_noisy = data + noise * torch.sqrt(t).unsqueeze(1)\n",
    "    steps = 100  # Nombre d'étapes de débruitage\n",
    "    denoised_data = denoise_data_multi_step(diffusion_model, x_noisy, T, steps)\n",
    "\n",
    "# Visualisation des résultats\n",
    "plt.figure(figsize=(8, 6))\n",
    "plt.scatter(data[:, 0], data[:, 1], color='red', alpha=0.6, label=\"Données originales\", s=10)\n",
    "plt.scatter(x_noisy[:, 0], x_noisy[:, 1], color='blue', alpha=0.6, label=\"Données bruitées\", s=10)\n",
    "plt.scatter(denoised_data[:, 0], denoised_data[:, 1], color='green', alpha=0.6, label=\"Données débruitées\", s=10)\n",
    "\n",
    "plt.title(\"Données 2D : Originales, Bruitées et Débruitées par le Modèle\")\n",
    "plt.xlabel(\"x1\")\n",
    "plt.ylabel(\"x2\")\n",
    "plt.legend()\n",
    "plt.axis(\"equal\")\n",
    "plt.show()\n"
   ]
  }
 ],
 "metadata": {
  "kernelspec": {
   "display_name": "base",
   "language": "python",
   "name": "python3"
  },
  "language_info": {
   "codemirror_mode": {
    "name": "ipython",
    "version": 3
   },
   "file_extension": ".py",
   "mimetype": "text/x-python",
   "name": "python",
   "nbconvert_exporter": "python",
   "pygments_lexer": "ipython3",
   "version": "3.12.3"
  }
 },
 "nbformat": 4,
 "nbformat_minor": 2
}
